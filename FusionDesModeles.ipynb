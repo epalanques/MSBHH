{
 "cells": [
  {
   "cell_type": "markdown",
   "metadata": {},
   "source": [
    "## Fonction de fusion des modèles"
   ]
  },
  {
   "cell_type": "code",
   "execution_count": 1,
   "metadata": {
    "collapsed": true
   },
   "outputs": [],
   "source": [
    "#Les modèles ont déjà été renommés\n",
    "#On ajoute aux réactions de type EX_xxx le metabolite xxx_pool\n",
    "#On ajoute la réaction xxx_pool <-> que l'on nomme \"pool_xxx\"\n",
    "import cobra.test\n",
    "from cobra import *"
   ]
  },
  {
   "cell_type": "code",
   "execution_count": 2,
   "metadata": {
    "collapsed": true
   },
   "outputs": [],
   "source": [
    "def FinderOfEX(model):\n",
    "    '''\n",
    "        Retrun a dictList of cobra reactions starting with EX\n",
    "    '''\n",
    "    res=[]\n",
    "    for x in model.reactions:\n",
    "        if type(x.id)==type(\"string\") and x.id.startswith(\"EX\"): #comparaison des types pour sauter les reactions.. \n",
    "                                                                #..sans noms : x.name de type NoneType.\n",
    "            res.append(x.id)\n",
    "    return res"
   ]
  },
  {
   "cell_type": "code",
   "execution_count": 53,
   "metadata": {
    "collapsed": true
   },
   "outputs": [],
   "source": [
    "def fusion(modelList):\n",
    "    \n",
    "    '''\n",
    "    --Parameters--\n",
    "\n",
    "    modelList est une liste de modèles. En pratique de longueur 2 ou 3\n",
    "    \n",
    "    --Return--\n",
    "    Return the fusion of the models \n",
    "    '''\n",
    "    \n",
    "    from cobra import Model, Reaction, Metabolite\n",
    "    #Initialisation\n",
    "    NewModel = cobra.Model(\"Fusion des modèles !\")\n",
    "    \n",
    "    #Ajout de toutes les réactions dans le nouveau modèle \n",
    "    \n",
    "    for model in modelList:\n",
    "        NewModel.add_reactions(model.reactions)\n",
    "    \n",
    "    \n",
    "    #Modification des réactions EX comme décrit:\n",
    "    EX_Reactions=[]\n",
    "    for model in modelList:\n",
    "        EX_Reactions+=FinderOfEX(model)\n",
    "    \n",
    "    #help(type(NewModel))\n",
    "    for idEX in EX_Reactions:\n",
    "        rootReac = NewModel.reactions.get_by_id(idEX)#Reaction avec une seule métabolite que l'on récupère:\n",
    "        #print(NewModel.reactions)\n",
    "        for metab in rootReac.metabolites:#Un seul métabolite #utilisation boucle car difficultés à récupérer autrement\n",
    "            rootMetab = NewModel.metabolites.get_by_id(metab.id)\n",
    "        poolMetab = Metabolite(\n",
    "            'pool_'+rootMetab.id,\n",
    "            formula=rootMetab.formula,\n",
    "            compartment='pool',\n",
    "            name='Version pool de '+rootMetab.name\n",
    "                )\n",
    "        rootReac.add_metabolites({ ##\n",
    "            poolMetab : -rootMetab.charge #charge = coefficient stoechiometrique de root dans la reaction i.e. -1 normalement\n",
    "        })\n",
    "        #Ajout des réaction xxx_pool <-> que l'on identifient par \"pool_xxx\"\n",
    "        poolReac = Reaction('pool_'+rootMetab.id)\n",
    "        poolReac.name='Reaction : '+rootMetab.id+'_pool <->'\n",
    "        poolReac.subsystem = 'pool'\n",
    "        #Bounds will be set by the diet.\n",
    "        poolReac.add_metabolites({\n",
    "            poolMetab : -1.0\n",
    "        })\n",
    "        NewModel.add_reactions([poolReac])\n",
    "    ##Changement de l'objectif ?\n",
    "    #XXX\n",
    "    return NewModel"
   ]
  },
  {
   "cell_type": "markdown",
   "metadata": {},
   "source": [
    "## TESTS"
   ]
  },
  {
   "cell_type": "code",
   "execution_count": 5,
   "metadata": {
    "collapsed": true
   },
   "outputs": [],
   "source": [
    "mini=cobra.test.create_test_model(\"mini\")"
   ]
  },
  {
   "cell_type": "code",
   "execution_count": 6,
   "metadata": {
    "collapsed": true
   },
   "outputs": [],
   "source": [
    "# Best practise: SBML compliant IDs\n",
    "modeltest = Model('example_model')\n",
    "\n",
    "reaction = Reaction('REACTION_INSEREE')\n",
    "reaction.name = 'reaction que jai insérée '\n",
    "reaction.subsystem = 'FAUDRA FAIRE GAFFE AU SUBSYSTEM'\n",
    "reaction.lower_bound = 0.  # This is the default\n",
    "reaction.upper_bound = 1000.  # This is the default"
   ]
  },
  {
   "cell_type": "code",
   "execution_count": 7,
   "metadata": {
    "collapsed": true
   },
   "outputs": [],
   "source": [
    "TEST = Metabolite(\n",
    "    'TEST',\n",
    "    formula='FORMULETEST',\n",
    "    name='NAMETEST',\n",
    "    compartment='test')\n",
    "reaction.add_metabolites({\n",
    "    TEST : -1.0 \n",
    "})\n"
   ]
  },
  {
   "cell_type": "code",
   "execution_count": 8,
   "metadata": {},
   "outputs": [],
   "source": [
    "modeltest.add_reactions([reaction])"
   ]
  },
  {
   "cell_type": "code",
   "execution_count": 9,
   "metadata": {
    "collapsed": true
   },
   "outputs": [],
   "source": [
    "modelList=[modeltest,mini]"
   ]
  },
  {
   "cell_type": "code",
   "execution_count": 63,
   "metadata": {},
   "outputs": [
    {
     "data": {
      "text/html": [
       "\n",
       "        <table>\n",
       "            <tr>\n",
       "                <td><strong>Name</strong></td>\n",
       "                <td>Fusion des modèles !</td>\n",
       "            </tr><tr>\n",
       "                <td><strong>Memory address</strong></td>\n",
       "                <td>0x07f31a01ffe80</td>\n",
       "            </tr><tr>\n",
       "                <td><strong>Number of metabolites</strong></td>\n",
       "                <td>27</td>\n",
       "            </tr><tr>\n",
       "                <td><strong>Number of reactions</strong></td>\n",
       "                <td>22</td>\n",
       "            </tr><tr>\n",
       "                <td><strong>Objective expression</strong></td>\n",
       "                <td>0</td>\n",
       "            </tr><tr>\n",
       "                <td><strong>Compartments</strong></td>\n",
       "                <td>test, c, e, pool</td>\n",
       "            </tr>\n",
       "          </table>"
      ],
      "text/plain": [
       "<Model Fusion des modèles ! at 0x7f31a01ffe80>"
      ]
     },
     "execution_count": 63,
     "metadata": {},
     "output_type": "execute_result"
    }
   ],
   "source": [
    "fusion(modelList)"
   ]
  },
  {
   "cell_type": "markdown",
   "metadata": {},
   "source": [
    "La fusion à l'air de fonctionner, il faudra faire des tests plus approfondis certainement."
   ]
  },
  {
   "cell_type": "code",
   "execution_count": null,
   "metadata": {
    "collapsed": true
   },
   "outputs": [],
   "source": []
  }
 ],
 "metadata": {
  "kernelspec": {
   "display_name": "Python 3",
   "language": "python",
   "name": "python3"
  },
  "language_info": {
   "codemirror_mode": {
    "name": "ipython",
    "version": 3
   },
   "file_extension": ".py",
   "mimetype": "text/x-python",
   "name": "python",
   "nbconvert_exporter": "python",
   "pygments_lexer": "ipython3",
   "version": "3.6.3"
  }
 },
 "nbformat": 4,
 "nbformat_minor": 2
}
