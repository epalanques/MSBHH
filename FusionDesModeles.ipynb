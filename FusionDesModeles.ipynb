{
 "cells": [
  {
   "cell_type": "markdown",
   "metadata": {},
   "source": [
    "## Fonction de fusion des modèles"
   ]
  },
  {
   "cell_type": "code",
   "execution_count": 1,
   "metadata": {
    "collapsed": true
   },
   "outputs": [],
   "source": [
    "#Les modèles ont déjà été renommés\n",
    "#On ajoute aux réactions de type EX_xxx le metabolite xxx_pool\n",
    "#On ajoute la réaction xxx_pool <-> que l'on nomme \"pool_xxx\"\n",
    "\n",
    "\n"
   ]
  },
  {
   "cell_type": "code",
   "execution_count": null,
   "metadata": {
    "collapsed": true
   },
   "outputs": [],
   "source": [
    "def fusion(model1,model2)\n",
    "    import cobra\n",
    "    #Initialisation\n",
    "    NewModel = Model(\"Fusion de \"+model1.name+model2.name)\n",
    "    NewReactions = #SetDeReactions\n",
    "    NewMetab = \n",
    "    \n",
    "    #Ajout de toutes les réactions dans le nouveau modèle\n",
    "    #XXX\n",
    "    for x in model1.reactions:\n",
    "        NewReactions.add \n",
    "    #Modification des réactions EX comme décrit:\n",
    "    EX_Reactions1= FinderOfEX(model1)\n",
    "    EX_Reactions1= FinderOfEX(model2)\n",
    "        \n",
    "        #Ajout de la metabolite xxx_pool via .add_metabolites \n",
    "        \n",
    "    #Ajout des réaction xxx_pool <-> que l'on nomme \"pool_xxx\"\n",
    "    \n",
    "    "
   ]
  }
 ],
 "metadata": {
  "kernelspec": {
   "display_name": "Python 3",
   "language": "python",
   "name": "python3"
  },
  "language_info": {
   "codemirror_mode": {
    "name": "ipython",
    "version": 3
   },
   "file_extension": ".py",
   "mimetype": "text/x-python",
   "name": "python",
   "nbconvert_exporter": "python",
   "pygments_lexer": "ipython3",
   "version": "3.6.3"
  }
 },
 "nbformat": 4,
 "nbformat_minor": 2
}
